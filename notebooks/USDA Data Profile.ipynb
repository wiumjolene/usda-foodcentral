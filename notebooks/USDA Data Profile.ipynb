{
 "cells": [
  {
   "attachments": {},
   "cell_type": "markdown",
   "metadata": {},
   "source": [
    "# USDA DATA\n",
    "\n",
    "The [USDA Food Central database](https://fdc.nal.usda.gov/about-us.html) was established to document the nutritional information in food sold and distributed in the USA. \n",
    "\n",
    "> Provides a broad snapshot in time of the nutrients and other components found in a wide variety of foods and food products.\n",
    "\n",
    "It combines five separate data sources:\n",
    "\n",
    "1. [`Foundation Foods`](#foundation-foods)\n",
    "\n",
    "2. [`Experimental Foods`](#experimental-foods)\n",
    "\n",
    "3. [`SR Legacy`](#sr-legacy): *National Nutrient Database for Standard Reference Legacy Release*\n",
    "\n",
    "4. [`Food and Nutrient Database for Dietary Studies 2019-2020 (FNDDS 2019-2020)`](#food-and-nutrient-database-for-dietary-studies-2019-2020-fndds-2019-2020): *Food and Nutrient Database for Dietary Studies 2019-2020*\n",
    "\n",
    "5. [`USDA Global Branded Food Products Database (Branded Foods)`](#the-usda-global-branded-food-products-database-branded-foods): *USDA Global Branded Food Products Database*\n",
    "\n",
    "\n",
    "\n",
    "[Wikipedia](https://en.wikipedia.org/wiki/USDA_National_Nutrient_Database) provides a good overview of the data set. The USDA website states the users of this data as:\n",
    "\n",
    "> Can be used by, and has benefits for, a variety of users, including researchers, policy makers, academicians and educators, nutrition and health professionals, product developers, and others.\n"
   ]
  },
  {
   "attachments": {},
   "cell_type": "markdown",
   "metadata": {},
   "source": [
    "# Accessing the data\n",
    "https://fdc.nal.usda.gov/api-guide.html"
   ]
  },
  {
   "cell_type": "code",
   "execution_count": 13,
   "metadata": {},
   "outputs": [],
   "source": [
    "import os\n",
    "import sys\n",
    "import pandas as pd\n",
    "\n",
    "sys.path.append(os.path.dirname(os.path.dirname(os.path.realpath('__file__'))))\n",
    "\n",
    "from src.utils.connect import DatabaseModelsClass\n",
    "from src.get_data import GetData\n",
    "usda = GetData()"
   ]
  },
  {
   "attachments": {},
   "cell_type": "markdown",
   "metadata": {},
   "source": [
    "## Map foods\n",
    "All foods in the USDA database will have to be mapped by paging through the `/foods/list' API to obtain the fdcId of each food."
   ]
  },
  {
   "attachments": {},
   "cell_type": "markdown",
   "metadata": {},
   "source": [
    "### List foods\n",
    "Use of the `/v1/foods/list' call to page through all foods in the database. A query parameter can be given to distinguish between one of the five data types.\n",
    "\n",
    "#### Fields in `list'"
   ]
  },
  {
   "cell_type": "code",
   "execution_count": 14,
   "metadata": {},
   "outputs": [
    {
     "name": "stdout",
     "output_type": "stream",
     "text": [
      "2353623 | A Low-Starch and High-Fiber Diet Intervention Impacts the Microbial Community of Raw Bovine Milk | Experimental | 2022-10-28\n",
      "2341752 | Abalone | Survey (FNDDS) | 2022-10-28\n",
      "167782 | Abiyuch, raw | SR Legacy | 2019-04-01\n",
      "171687 | Acerola juice, raw | SR Legacy | 2019-04-01\n",
      "171686 | Acerola, (west indian cherry), raw | SR Legacy | 2019-04-01\n"
     ]
    }
   ],
   "source": [
    "list = usda.get_food_list()"
   ]
  },
  {
   "attachments": {},
   "cell_type": "markdown",
   "metadata": {},
   "source": [
    "### Get a specific food\n",
    "Use of the `/v1/food/{fdcId}' call get details about a specific food in the database.\n"
   ]
  },
  {
   "attachments": {},
   "cell_type": "markdown",
   "metadata": {},
   "source": [
    "## Foundation Foods\n",
    "Foundation Foods includes values derived from analyses for food components, including nutrients on a diverse range of foods and ingredients as well as extensive underlying metadata. These metadata include the number of samples, sampling location, date of collection, analytical approaches used, and if appropriate, agricultural information such as genotype and production practices. The enhanced depth and transparency of Foundation Foods data can provide valuable insights into the many factors that influence variability in nutrient and food component profiles. The goal of Foundation Foods will be to, over time, expand the number of basic foods and ingredients and their underlying data."
   ]
  },
  {
   "cell_type": "code",
   "execution_count": 15,
   "metadata": {},
   "outputs": [
    {
     "name": "stdout",
     "output_type": "stream",
     "text": [
      "2262074 | Almond butter, creamy | Foundation | 2022-04-28\n",
      "2257045 | Almond milk, unsweetened, plain, refrigerated | Foundation | 2022-04-28\n",
      "1999631 | Almond milk, unsweetened, plain, shelf stable | Foundation | 2021-10-28\n",
      "2003590 | Apple juice, with added vitamin C, from concentrate, shelf stable | Foundation | 2021-10-28\n",
      "1750340 | Apples, fuji, with skin, raw | Foundation | 2020-10-30\n"
     ]
    }
   ],
   "source": [
    "list = usda.get_food_list(\"Foundation\")"
   ]
  },
  {
   "cell_type": "code",
   "execution_count": 16,
   "metadata": {},
   "outputs": [
    {
     "name": "stdout",
     "output_type": "stream",
     "text": [
      "fdcId: LONG RESPONSE...\n",
      "description: Apples, fuji, with skin, raw\n",
      "publicationDate: 10/30/2020\n",
      "foodNutrients: LONG RESPONSE...\n",
      "dataType: Foundation\n",
      "foodClass: FinalFood\n",
      "scientificName: Malus domestica\n",
      "inputFoods: LONG RESPONSE...\n",
      "foodComponents: LONG RESPONSE...\n",
      "foodAttributes: LONG RESPONSE...\n",
      "nutrientConversionFactors: LONG RESPONSE...\n",
      "ndbNumber: LONG RESPONSE...\n",
      "isHistoricalReference: LONG RESPONSE...\n",
      "foodCategory: LONG RESPONSE...\n"
     ]
    }
   ],
   "source": [
    "data = usda.get_food_fdcid('1750340')"
   ]
  },
  {
   "attachments": {},
   "cell_type": "markdown",
   "metadata": {},
   "source": [
    "## Experimental Foods\n",
    "Experimental Foods contains foods produced, acquired, or studied under unique conditions, such as alternative management systems, experimental genotypes, or research/analytical protocols. The foods in this data type may not be commercially available to the public or the data may expand information about the specific food. Experimental Foods are for research purposes and may not be appropriate as a reference for the consumer or for diet planning. Experimental Foods data may also be available through links to relevant agricultural research data sources, such as the AgCROS. The data in Experimental Foods may include (or link to) variables such as genetics, environmental inputs and outputs, supply chains, economic considerations, and nutrition research. These data will allow users to examine a range of factors used that may affect the profiles of food components, including nutrients and resulting dietary intakes as well as the sustainability of agricultural and dietary food systems."
   ]
  },
  {
   "cell_type": "code",
   "execution_count": 17,
   "metadata": {},
   "outputs": [],
   "source": [
    "list = usda.get_food_list(\"Experimental\")"
   ]
  },
  {
   "cell_type": "code",
   "execution_count": null,
   "metadata": {},
   "outputs": [
    {
     "name": "stdout",
     "output_type": "stream",
     "text": [
      "fdcId: LONG RESPONSE...\n",
      "description: Bioaccessibility and intestinal cell uptake of carotenoids and chlorophylls differ in powdered spinach by the ingredient form as measured using in vitro gastrointestinal digestion and anaerobic fecal fermentation models\n",
      "publicationDate: 4/20/2023\n",
      "dataType: Experimental\n",
      "foodClass: Experimental\n",
      "abstract: Scientific journal extract..\n",
      "title: Bioaccessibility and intestinal cell uptake of carotenoids and chlorophylls differ in powdered spinach by the ingredient form as measured using in vitro gastrointestinal digestion and anaerobic fecal fermentation models\n",
      "doiNumber: https://doi.org/10.1039/d2fo00051b\n",
      "doiUrl: https://doi.org/10.1039/d2fo00051b\n",
      "studyDesign: Scientific journal extract..\n",
      "results: Scientific journal extract..\n",
      "authors: LONG RESPONSE...\n",
      "affiliations: LONG RESPONSE...\n"
     ]
    }
   ],
   "source": [
    "data = usda.get_food_fdcid('2516768')"
   ]
  },
  {
   "attachments": {},
   "cell_type": "markdown",
   "metadata": {},
   "source": [
    "## SR Legacy\n",
    "SR Legacy has been the primary food composition data type in the United States for decades. It provides a comprehensive list of values for food components, including nutrients derived from analyses, imputations, and the published literature. This data type has provided the values for most other public and private food composition databases and has supported a wide range of public policy initiatives, research studies, and diet planning and education activities. SR Legacy, released in April 2018, is the final release of this data type and will not be updated. For more recent data, users should search other data types in FoodData Central."
   ]
  },
  {
   "cell_type": "code",
   "execution_count": null,
   "metadata": {},
   "outputs": [
    {
     "name": "stdout",
     "output_type": "stream",
     "text": [
      "167782 | Abiyuch, raw | SR Legacy | 2019-04-01\n",
      "171687 | Acerola juice, raw | SR Legacy | 2019-04-01\n",
      "171686 | Acerola, (west indian cherry), raw | SR Legacy | 2019-04-01\n",
      "168061 | Acorn stew (Apache) | SR Legacy | 2019-04-01\n",
      "168992 | Agave, cooked (Southwest) | SR Legacy | 2019-04-01\n"
     ]
    }
   ],
   "source": [
    "list = usda.get_food_list(\"SR Legacy\")"
   ]
  },
  {
   "cell_type": "code",
   "execution_count": null,
   "metadata": {},
   "outputs": [
    {
     "name": "stdout",
     "output_type": "stream",
     "text": [
      "fdcId: LONG RESPONSE...\n",
      "description: Agave, cooked (Southwest)\n",
      "publicationDate: 4/1/2019\n",
      "foodNutrients: LONG RESPONSE...\n",
      "dataType: SR Legacy\n",
      "foodClass: FinalFood\n",
      "foodComponents: LONG RESPONSE...\n",
      "foodAttributes: LONG RESPONSE...\n",
      "nutrientConversionFactors: LONG RESPONSE...\n",
      "inputFoods: LONG RESPONSE...\n",
      "ndbNumber: LONG RESPONSE...\n",
      "isHistoricalReference: LONG RESPONSE...\n",
      "foodCategory: LONG RESPONSE...\n"
     ]
    }
   ],
   "source": [
    "data = usda.get_food_fdcid('168992')"
   ]
  },
  {
   "attachments": {},
   "cell_type": "markdown",
   "metadata": {},
   "source": [
    "## Food and Nutrient Database for Dietary Studies 2019-2020 (FNDDS 2019-2020)\n",
    "Food and Nutrient Database for Dietary Studies 2019-2020 (FNDDS 2019-2020) provides nutrient and food component values for the foods and beverages reported in What We Eat in America, the dietary intake component of the National Health and Nutrition Examination Survey (NHANES). FNDDS data releases correspond to the NHANES two-year data cycles. FNDDS data facilitate analyses of dietary intakes reported in NHANES as well as many other dietary research studies."
   ]
  },
  {
   "cell_type": "code",
   "execution_count": null,
   "metadata": {},
   "outputs": [
    {
     "name": "stdout",
     "output_type": "stream",
     "text": [
      "2341752 | Abalone | Survey (FNDDS) | 2022-10-28\n",
      "2344293 | Adobo, with noodles | Survey (FNDDS) | 2022-10-28\n",
      "2344443 | Adobo, with rice | Survey (FNDDS) | 2022-10-28\n",
      "2345842 | Agave liquid sweetener | Survey (FNDDS) | 2022-10-28\n",
      "2346197 | Alcoholic malt beverage | Survey (FNDDS) | 2022-10-28\n"
     ]
    }
   ],
   "source": [
    "list = usda.get_food_list(\"Survey (FNDDS)\")"
   ]
  },
  {
   "cell_type": "code",
   "execution_count": null,
   "metadata": {},
   "outputs": [
    {
     "name": "stdout",
     "output_type": "stream",
     "text": [
      "foodClass: Survey\n",
      "description: Alcoholic malt beverage\n",
      "foodNutrients: LONG RESPONSE...\n",
      "foodAttributes: LONG RESPONSE...\n",
      "foodCode: 93106100\n",
      "startDate: 1/1/2019\n",
      "endDate: 12/31/2020\n",
      "wweiaFoodCategory: LONG RESPONSE...\n",
      "fdcId: LONG RESPONSE...\n",
      "dataType: Survey (FNDDS)\n",
      "inputFoods: LONG RESPONSE...\n",
      "foodPortions: LONG RESPONSE...\n",
      "publicationDate: 10/28/2022\n"
     ]
    }
   ],
   "source": [
    "data = usda.get_food_fdcid('2346197')"
   ]
  },
  {
   "attachments": {},
   "cell_type": "markdown",
   "metadata": {},
   "source": [
    "## The USDA Global Branded Food Products Database (Branded Foods)\n",
    "The USDA Global Branded Food Products Database (Branded Foods), formerly hosted on the USDA Food Composition Databases website, are data from a public-private partnership whose goal is to enhance the open sharing of nutrient data that appear on branded and private label foods and are provided by the food industry."
   ]
  },
  {
   "cell_type": "code",
   "execution_count": null,
   "metadata": {},
   "outputs": [
    {
     "name": "stdout",
     "output_type": "stream",
     "text": [
      "2533357 |  ALL NATURAL GLUTEN FREE CHICKEN NUGGETS | Branded | 2023-04-27\n",
      "1861692 |  BERRY NUT BLEND BREAKFAST IN THE GO!  | Branded | 2021-07-29\n",
      "2527760 |  CHEDDAR & SOUR CREAM FLAVORED POTATO CHIPS | Branded | 2023-04-27\n",
      "2216356 |  CHOCOLATE CAKE HOOPIE PIES,  CHOCOLATE CAKE | Branded | 2022-01-06\n",
      "1909487 |  COCONUT WATER BARS, MANGO | Branded | 2021-07-29\n"
     ]
    }
   ],
   "source": [
    "list = usda.get_food_list(\"Branded\")"
   ]
  },
  {
   "cell_type": "code",
   "execution_count": null,
   "metadata": {},
   "outputs": [
    {
     "name": "stdout",
     "output_type": "stream",
     "text": [
      "discontinuedDate: \n",
      "foodComponents: LONG RESPONSE...\n",
      "foodAttributes: LONG RESPONSE...\n",
      "foodPortions: LONG RESPONSE...\n",
      "fdcId: LONG RESPONSE...\n",
      "description:  BERRY NUT BLEND BREAKFAST IN THE GO! \n",
      "publicationDate: 7/29/2021\n",
      "foodNutrients: LONG RESPONSE...\n",
      "dataType: Branded\n",
      "foodClass: Branded\n",
      "modifiedDate: 9/8/2018\n",
      "availableDate: 9/8/2018\n",
      "brandOwner: Snyder's-Lance, Inc.\n",
      "brandName: EMERALD\n",
      "dataSource: LI\n",
      "brandedFoodCategory: Popcorn, Peanuts, Seeds & Related Snacks\n",
      "gtinUpc: 010300064220\n",
      "ingredients: VANILLA GRANOLA (ROLLED OATS, BROWN SUGAR, WHEAT FLAKES, WHOLE OAT FLOUR, CANOLA OIL, CORN SYRUP, RICE FLOUR, ARTIFICIAL FLAVOR, SALT, MIXED TOCOPHEROLS [TO PRESERVE FRESHNESS], RICE EXTRACT, DISTILLED MONOGLYCERIDES, BARLEY MALT EXTRACT), COCKTAIL PEANUTS (PEANUTS, PEANUT AND/OR COTTONSEED OIL, SALT), YOGURT FLAVORED RAISINS (YOGURT COATING [SUGAR, PARTIALLY HYDROGENATED PALM KERNEL OIL, CALCIUM CARBONATE, YOGURT POWDER {CULTURED WHEY PROTEIN CONCENTRATE, CULTURED SKIM MILK, AND YOGURT CULTURE}, ARTIFICIAL COLOR, SOY LECITHIN {AN EMULSIFIER}, NATURAL FLAVOR], RAISINS, SUNFLOWER OIL, CORN SYRUP, MODIFIED STARCH, COCONUT OIL, CONFECTIONER'S GLAZE), INFUSED DRIED CRANBERRIES (SLICED CRANBERRIES, SUGAR, GLYCERIN, SUNFLOWER OIL), GLAZED WALNUTS (WALNUTS, SUGAR, CORN SYRUP, SESAME SEEDS, SALT, CANOLA OIL, NATURAL FLAVORS, SOY LECITHIN [AN EMULISIFIER], CITRIC ACID), INFUSED DRIED BLUEBERRY FLAVORED CRANBERRIES (SLICED CRANBERRIES, SUGAR, BLUEBERRY JUICE, SUNFLOWER OIL, NATURAL BLUEBERRY FLAVOR, MALIC ACID), DUSTED WITH: MALTODEXTRIN, MANNITOL, MODIFIED CELLULOSE.\n",
      "marketCountry: United States\n",
      "servingSize: LONG RESPONSE...\n",
      "servingSizeUnit: g\n",
      "packageWeight: 212.5 g/7.5 oz\n",
      "foodUpdateLog: LONG RESPONSE...\n",
      "labelNutrients: LONG RESPONSE...\n"
     ]
    }
   ],
   "source": [
    "data = usda.get_food_fdcid('1861692')"
   ]
  }
 ],
 "metadata": {
  "kernelspec": {
   "display_name": ".venv",
   "language": "python",
   "name": "python3"
  },
  "language_info": {
   "codemirror_mode": {
    "name": "ipython",
    "version": 3
   },
   "file_extension": ".py",
   "mimetype": "text/x-python",
   "name": "python",
   "nbconvert_exporter": "python",
   "pygments_lexer": "ipython3",
   "version": "3.11.2"
  },
  "orig_nbformat": 4
 },
 "nbformat": 4,
 "nbformat_minor": 2
}
